{
 "cells": [
  {
   "cell_type": "markdown",
   "id": "1f9dd36d-0ec1-4dd0-a22b-4535e7df0c1d",
   "metadata": {},
   "source": [
    "### Import modules"
   ]
  },
  {
   "cell_type": "code",
   "execution_count": null,
   "id": "9d1382a2-2cab-4f3e-b12f-bcc2f0549953",
   "metadata": {},
   "outputs": [],
   "source": [
    "from opensearchpy import OpenSearch, RequestsHttpConnection, AWSV4SignerAuth, helpers\n",
    "import boto3\n",
    "import json\n",
    "import pandas as pd"
   ]
  },
  {
   "cell_type": "markdown",
   "id": "0f613f58-3697-47ab-bdf9-2c682c84e742",
   "metadata": {},
   "source": [
    "### Initialize and configure Boto Client for Bedrock"
   ]
  },
  {
   "cell_type": "code",
   "execution_count": null,
   "id": "89ae4b4c-92c1-4f71-8b16-0a44fcd8da47",
   "metadata": {},
   "outputs": [],
   "source": [
    "bedrock = boto3.client(\n",
    " service_name='bedrock',\n",
    " region_name='us-west-2',\n",
    " endpoint_url='https://bedrock.us-west-2.amazonaws.com'\n",
    ")"
   ]
  },
  {
   "cell_type": "markdown",
   "id": "8689f157-044d-45a2-9bf4-a62bd3912bea",
   "metadata": {},
   "source": [
    "### Initialize and configure OpenSearch client"
   ]
  },
  {
   "cell_type": "code",
   "execution_count": null,
   "id": "529fb048-150b-4dc5-aba7-14e4ed5e65e7",
   "metadata": {},
   "outputs": [],
   "source": [
    "host = \"HOST.us-west-2.aoss.amazonaws.com\" #replace this with the value from the AWS Management Console\n",
    "region = \"us-west-2\"\n",
    "service = \"aoss\"\n",
    "credentials = boto3.Session().get_credentials()\n",
    "auth = AWSV4SignerAuth(credentials, region, service)"
   ]
  },
  {
   "cell_type": "code",
   "execution_count": null,
   "id": "b31befd5-8286-437d-86a1-7a3c129c1f0d",
   "metadata": {},
   "outputs": [],
   "source": [
    "client = OpenSearch(\n",
    "    hosts = [{\"host\": host, \"port\": 443}],\n",
    "    http_auth = auth,\n",
    "    use_ssl = True,\n",
    "    verify_certs = True,\n",
    "    connection_class = RequestsHttpConnection,\n",
    "    pool_maxsize = 20\n",
    ")"
   ]
  },
  {
   "cell_type": "markdown",
   "id": "2fec7309-e80b-4cd1-a5f5-9faa40fed2dc",
   "metadata": {},
   "source": [
    "### Process the dataset"
   ]
  },
  {
   "cell_type": "code",
   "execution_count": null,
   "id": "52c44c86-a0e0-4ef0-aeb7-0371aa92619f",
   "metadata": {},
   "outputs": [],
   "source": [
    "df=pd.read_csv('./data/oscars.csv')"
   ]
  },
  {
   "cell_type": "code",
   "execution_count": null,
   "id": "5b71e838-1621-4b17-8bec-f2132f076618",
   "metadata": {},
   "outputs": [],
   "source": [
    "df=df.loc[df['year_ceremony'] == 2023]\n",
    "df=df.dropna(subset=['film'])\n",
    "df['category'] = df['category'].str.lower()"
   ]
  },
  {
   "cell_type": "code",
   "execution_count": null,
   "id": "2d507333-d3e4-4e68-91d1-f74f03886aff",
   "metadata": {},
   "outputs": [],
   "source": [
    "#df"
   ]
  },
  {
   "cell_type": "markdown",
   "id": "23cf6c14-0317-4f27-9090-0a51a8c939af",
   "metadata": {},
   "source": [
    "### Concatenate columns to create a new text colummn"
   ]
  },
  {
   "cell_type": "code",
   "execution_count": null,
   "id": "c4712615-085b-4755-95dc-dc4d128cbf7d",
   "metadata": {},
   "outputs": [],
   "source": [
    "# Create the column for all rows first\n",
    "df['text'] = df['name'] + ' got nominated under the category, ' + df['category'] + ', for the film ' + df['film'] + ' to win the award'\n",
    "\n",
    "# Find the rows where 'winner' is False and replace the 'text' for those rows\n",
    "df.loc[df['winner'] == False, 'text'] = df['name'] + ' got nominated under the category, ' + df['category'] + ', for the film ' + df['film'] + ' but did not win'"
   ]
  },
  {
   "cell_type": "code",
   "execution_count": null,
   "id": "8d646d92-8e12-477b-9a12-1ec626394eb8",
   "metadata": {},
   "outputs": [],
   "source": [
    "#df"
   ]
  },
  {
   "cell_type": "markdown",
   "id": "d4bd0b99-c449-4b2e-872e-73be529893d2",
   "metadata": {},
   "source": [
    "### Generate embeddings for the text column from Titan"
   ]
  },
  {
   "cell_type": "code",
   "execution_count": null,
   "id": "49045caf-b771-4847-b8d7-afc29234d94d",
   "metadata": {},
   "outputs": [],
   "source": [
    "def text_embedding(text):\n",
    "    body=json.dumps({\"inputText\": text})\n",
    "    response = bedrock.invoke_model(body=body, modelId='amazon.titan-e1t-medium', accept='application/json', contentType='application/json')\n",
    "    response_body = json.loads(response.get('body').read())\n",
    "    embedding = response_body.get('embedding')\n",
    "    return embedding"
   ]
  },
  {
   "cell_type": "code",
   "execution_count": null,
   "id": "21450fa0-a205-4610-8a0f-18ce017747da",
   "metadata": {},
   "outputs": [],
   "source": [
    "df=df.assign(embedding=(df[\"text\"].apply(lambda x : text_embedding(x))))"
   ]
  },
  {
   "cell_type": "markdown",
   "id": "b0d7bc47-d053-46c5-8f20-31dc0979f69a",
   "metadata": {},
   "source": [
    "### Ingest the text and embeddings into AOSS"
   ]
  },
  {
   "cell_type": "code",
   "execution_count": null,
   "id": "b79bae4e-72aa-40e0-a3c2-6ebd54d54c1b",
   "metadata": {},
   "outputs": [],
   "source": [
    "def add_document(vector,text):\n",
    "    document = {\n",
    "      \"nominee_vector\": vector,\n",
    "      \"nominee_text\": text\n",
    "    }\n",
    "    \n",
    "    response = client.index(\n",
    "        index = 'oscars-index',\n",
    "        body = document\n",
    "    )\n",
    "    print('\\nAdding document:')\n",
    "    print(response) "
   ]
  },
  {
   "cell_type": "code",
   "execution_count": null,
   "id": "33aff9d1-bcb2-4851-ba03-3448c14cd7a0",
   "metadata": {},
   "outputs": [],
   "source": [
    "df.apply(lambda row: add_document(row['embedding'], row['text']), axis=1)"
   ]
  },
  {
   "cell_type": "markdown",
   "id": "46b47838-9581-4b99-8974-0da6f7fc48ad",
   "metadata": {},
   "source": [
    "### Perform semantic search"
   ]
  },
  {
   "cell_type": "code",
   "execution_count": null,
   "id": "1ccd5976-fe01-41f9-b968-2d8874deae11",
   "metadata": {},
   "outputs": [],
   "source": [
    "def search_index(vector):\n",
    "    document = {\n",
    "        \"size\": 15,\n",
    "        \"_source\": {\"excludes\": [\"nominee_vector\"]},\n",
    "        \"query\": {\n",
    "            \"knn\": {\n",
    "                 \"nominee_vector\": {\n",
    "                     \"vector\": vector,\n",
    "                     \"k\":15\n",
    "                 }\n",
    "            }\n",
    "        }\n",
    "    }\n",
    "    response = client.search(\n",
    "    body = document,\n",
    "    index = \"oscars-index\"\n",
    "    )\n",
    "    return response"
   ]
  },
  {
   "cell_type": "code",
   "execution_count": null,
   "id": "60cb1601-9fcb-41cf-bbf3-26cb7eda5dbc",
   "metadata": {},
   "outputs": [],
   "source": [
    "query='who won the award for best music?'\n",
    "vector=text_embedding(query)"
   ]
  },
  {
   "cell_type": "code",
   "execution_count": null,
   "id": "f16f1650-082c-42cd-a85f-ac21a3e2f100",
   "metadata": {},
   "outputs": [],
   "source": [
    "response=search_index(vector)\n",
    "data=response['hits']['hits']"
   ]
  },
  {
   "cell_type": "code",
   "execution_count": null,
   "id": "bed01117-99b2-4f86-87d0-c4f54f72c210",
   "metadata": {},
   "outputs": [],
   "source": [
    "data"
   ]
  }
 ],
 "metadata": {
  "kernelspec": {
   "display_name": "Python 3 (ipykernel)",
   "language": "python",
   "name": "python3"
  },
  "language_info": {
   "codemirror_mode": {
    "name": "ipython",
    "version": 3
   },
   "file_extension": ".py",
   "mimetype": "text/x-python",
   "name": "python",
   "nbconvert_exporter": "python",
   "pygments_lexer": "ipython3",
   "version": "3.9.6"
  }
 },
 "nbformat": 4,
 "nbformat_minor": 5
}
