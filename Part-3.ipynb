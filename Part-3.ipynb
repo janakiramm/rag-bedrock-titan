{
 "cells": [
  {
   "cell_type": "markdown",
   "id": "37b4bd04-9ee9-4ff1-8290-6d7272d3e4e7",
   "metadata": {},
   "source": [
    "### Import modules"
   ]
  },
  {
   "cell_type": "code",
   "execution_count": null,
   "id": "8d74acca-63f1-44b9-9416-23eb31470c6c",
   "metadata": {},
   "outputs": [],
   "source": [
    "from opensearchpy import OpenSearch, RequestsHttpConnection, AWSV4SignerAuth, helpers\n",
    "import boto3\n",
    "import json"
   ]
  },
  {
   "cell_type": "markdown",
   "id": "b60c4f02-d5d4-483a-a88d-b7c4f846185b",
   "metadata": {},
   "source": [
    "### Initialize and configure OpenSearch client"
   ]
  },
  {
   "cell_type": "code",
   "execution_count": null,
   "id": "ff85f63f-ed7e-48b4-9eb9-c3a6717c23a2",
   "metadata": {},
   "outputs": [],
   "source": [
    "host = \"HOST.us-west-2.aoss.amazonaws.com\" #replace this with the AOSS endpoint\n",
    "region = \"us-west-2\"\n",
    "service = \"aoss\"\n",
    "credentials = boto3.Session().get_credentials()\n",
    "auth = AWSV4SignerAuth(credentials, region, service)"
   ]
  },
  {
   "cell_type": "code",
   "execution_count": null,
   "id": "80559ac3-f4ba-423a-94ab-44432816829a",
   "metadata": {},
   "outputs": [],
   "source": [
    "client = OpenSearch(\n",
    "    hosts = [{\"host\": host, \"port\": 443}],\n",
    "    http_auth = auth,\n",
    "    use_ssl = True,\n",
    "    verify_certs = True,\n",
    "    connection_class = RequestsHttpConnection,\n",
    "    pool_maxsize = 20\n",
    ")"
   ]
  },
  {
   "cell_type": "markdown",
   "id": "d80d8f05-3ce6-4d9f-9610-4019107af8f5",
   "metadata": {},
   "source": [
    "### Initialize and configure Boto Client for Bedrock"
   ]
  },
  {
   "cell_type": "code",
   "execution_count": null,
   "id": "6ba9bcf1-9045-4b60-9793-3e81b9bfbbee",
   "metadata": {},
   "outputs": [],
   "source": [
    "bedrock = boto3.client(\n",
    " service_name='bedrock',\n",
    " region_name='us-west-2',\n",
    " endpoint_url='https://bedrock.us-west-2.amazonaws.com'\n",
    ")"
   ]
  },
  {
   "cell_type": "markdown",
   "id": "2e0f471b-9b00-4a44-bd4d-31890de256d0",
   "metadata": {},
   "source": [
    "### Define function for generating embeddings"
   ]
  },
  {
   "cell_type": "code",
   "execution_count": null,
   "id": "4c9ac7b7-0b34-49b0-8f7a-3db73c144ea7",
   "metadata": {},
   "outputs": [],
   "source": [
    "def text_embedding(text):\n",
    "    body=json.dumps({\"inputText\": text})\n",
    "    response = bedrock.invoke_model(body=body, modelId='amazon.titan-e1t-medium', accept='application/json', contentType='application/json')\n",
    "    response_body = json.loads(response.get('body').read())\n",
    "    embedding = response_body.get('embedding')\n",
    "    return embedding"
   ]
  },
  {
   "cell_type": "markdown",
   "id": "e5f06071-da68-492a-86b1-f0cd0d69dfe4",
   "metadata": {},
   "source": [
    "### Create the prompt"
   ]
  },
  {
   "cell_type": "code",
   "execution_count": null,
   "id": "ed8973be-e145-4898-a938-9245737a87dc",
   "metadata": {},
   "outputs": [],
   "source": [
    "prompt='Who won the Best Actor award in a supporting role?'"
   ]
  },
  {
   "cell_type": "markdown",
   "id": "a735f7cc-f3f4-42c4-90e8-555e634b0925",
   "metadata": {},
   "source": [
    "### Build context"
   ]
  },
  {
   "cell_type": "code",
   "execution_count": null,
   "id": "530c2729-7b37-431d-b84e-e5a78c7a2687",
   "metadata": {},
   "outputs": [],
   "source": [
    "def search_index(vector):\n",
    "    document = {\n",
    "        \"size\": 15,\n",
    "        \"_source\": {\"excludes\": [\"nominee_vector\"]},\n",
    "        \"query\": {\n",
    "            \"knn\": {\n",
    "                 \"nominee_vector\": {\n",
    "                     \"vector\": vector,\n",
    "                     \"k\":15\n",
    "                 }\n",
    "            }\n",
    "        }\n",
    "    }\n",
    "    response = client.search(\n",
    "    body = document,\n",
    "    index = \"oscars-index\"\n",
    "    )\n",
    "    return response"
   ]
  },
  {
   "cell_type": "code",
   "execution_count": null,
   "id": "6cc7a5bb-4847-46d0-bf5b-964e357e3bb8",
   "metadata": {},
   "outputs": [],
   "source": [
    "vector=text_embedding(prompt)"
   ]
  },
  {
   "cell_type": "code",
   "execution_count": null,
   "id": "dae85ee2-64fd-456e-a496-4e980ae8ba1b",
   "metadata": {},
   "outputs": [],
   "source": [
    "response=search_index(vector)\n",
    "data=response['hits']['hits']"
   ]
  },
  {
   "cell_type": "code",
   "execution_count": null,
   "id": "181bded2-131e-4ce3-86ca-39c6634ef53c",
   "metadata": {},
   "outputs": [],
   "source": [
    "data"
   ]
  },
  {
   "cell_type": "code",
   "execution_count": null,
   "id": "93309c90-4ce0-4c0d-88ae-ea5aea3f0860",
   "metadata": {},
   "outputs": [],
   "source": [
    "context = ''\n",
    "for item in data:\n",
    "    context += item['_source']['nominee_text'] + '\\n'\n",
    "print(context)"
   ]
  },
  {
   "cell_type": "code",
   "execution_count": null,
   "id": "bf3557a7-6e8b-45ed-8c97-49318e7c44d1",
   "metadata": {},
   "outputs": [],
   "source": [
    "augmented_prompt=f'Context - {context}\\nBased on the above context, answer this question - {prompt}'"
   ]
  },
  {
   "cell_type": "code",
   "execution_count": null,
   "id": "a8c6f95b-d583-45d4-9313-7a2bb862162c",
   "metadata": {},
   "outputs": [],
   "source": [
    "augmented_prompt"
   ]
  },
  {
   "cell_type": "markdown",
   "id": "2be6ce1a-572e-4883-a85f-dad571a40571",
   "metadata": {},
   "source": [
    "### Invoke Titan LLM Endpoint"
   ]
  },
  {
   "cell_type": "code",
   "execution_count": null,
   "id": "0d624037-f6a9-46db-8e35-f304de838b78",
   "metadata": {},
   "outputs": [],
   "source": [
    "config={\n",
    "      \"maxTokenCount\": 1000,\n",
    "      \"stopSequences\": [],\n",
    "      \"temperature\":0.1,\n",
    "      \"topP\":1\n",
    "}\n",
    "\n",
    "body = json.dumps({'inputText': augmented_prompt,'textGenerationConfig':config})"
   ]
  },
  {
   "cell_type": "code",
   "execution_count": null,
   "id": "34b0f38c-c4f4-4619-a494-239444ba5ee5",
   "metadata": {},
   "outputs": [],
   "source": [
    "response = bedrock.invoke_model( \n",
    " modelId='amazon.titan-tg1-large', \n",
    " body=body\n",
    ")"
   ]
  },
  {
   "cell_type": "code",
   "execution_count": null,
   "id": "61d10ade-fdca-4152-91f2-d73c0ae2be6c",
   "metadata": {},
   "outputs": [],
   "source": [
    "response_body = json.loads(response.get('body').read())\n",
    "print(response_body.get('results')[0].get('outputText'))"
   ]
  }
 ],
 "metadata": {
  "kernelspec": {
   "display_name": "Python 3 (ipykernel)",
   "language": "python",
   "name": "python3"
  },
  "language_info": {
   "codemirror_mode": {
    "name": "ipython",
    "version": 3
   },
   "file_extension": ".py",
   "mimetype": "text/x-python",
   "name": "python",
   "nbconvert_exporter": "python",
   "pygments_lexer": "ipython3",
   "version": "3.9.6"
  }
 },
 "nbformat": 4,
 "nbformat_minor": 5
}
